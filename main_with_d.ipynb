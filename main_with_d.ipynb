{
 "cells": [
  {
   "cell_type": "code",
   "execution_count": 1,
   "metadata": {
    "collapsed": false
   },
   "outputs": [
    {
     "name": "stderr",
     "output_type": "stream",
     "text": [
      "C:\\Users\\Shira\\Anaconda3\\lib\\site-packages\\h5py\\__init__.py:36: FutureWarning: Conversion of the second argument of issubdtype from `float` to `np.floating` is deprecated. In future, it will be treated as `np.float64 == np.dtype(float).type`.\n",
      "  from ._conv import register_converters as _register_converters\n"
     ]
    }
   ],
   "source": [
    "%load_ext autoreload\n",
    "%autoreload 2\n",
    "import tensorflow as tf\n",
    "import time\n",
    "import model\n",
    "\n",
    "# M = (w_star_norm / alpha)^2 + w_star_norm**2 / lr\n",
    "# kmin = 2*(n/(2d-2))"
   ]
  },
  {
   "cell_type": "code",
   "execution_count": 2,
   "metadata": {
    "collapsed": false
   },
   "outputs": [
    {
     "ename": "ImportError",
     "evalue": "cannot import name 'sim'",
     "output_type": "error",
     "traceback": [
      "\u001b[0;31m---------------------------------------------------------------------------\u001b[0m",
      "\u001b[0;31mImportError\u001b[0m                               Traceback (most recent call last)",
      "\u001b[0;32m<ipython-input-2-6227078982ef>\u001b[0m in \u001b[0;36m<module>\u001b[0;34m()\u001b[0m\n\u001b[1;32m      1\u001b[0m \u001b[1;31m# test with d\u001b[0m\u001b[1;33m\u001b[0m\u001b[1;33m\u001b[0m\u001b[0m\n\u001b[0;32m----> 2\u001b[0;31m \u001b[1;32mfrom\u001b[0m \u001b[0mlin_sep_with_switch\u001b[0m \u001b[1;32mimport\u001b[0m \u001b[0msim\u001b[0m\u001b[1;33m\u001b[0m\u001b[0m\n\u001b[0m\u001b[1;32m      3\u001b[0m \u001b[1;33m\u001b[0m\u001b[0m\n\u001b[1;32m      4\u001b[0m cfg = {\n\u001b[1;32m      5\u001b[0m     \u001b[1;31m# dataset\u001b[0m\u001b[1;33m\u001b[0m\u001b[1;33m\u001b[0m\u001b[0m\n",
      "\u001b[0;31mImportError\u001b[0m: cannot import name 'sim'"
     ]
    }
   ],
   "source": [
    "# test with d\n",
    "from lin_sep_with_switch import sim\n",
    "\n",
    "cfg = {\n",
    "    # dataset\n",
    "    'dim' : 10,\n",
    "    'n_train' : 1000,\n",
    "    'n_test' : 1000,\n",
    "    'pi_nonsep' : 0,\n",
    "    'w_star_norm' : 3,\n",
    "\n",
    "    # network\n",
    "    'k' : 200,\n",
    "    'alpha' : 0.3,\n",
    "    \n",
    "    # optimization\n",
    "    'beta' : 0, # l_2 weight regularization\n",
    "    'batch_size' : 1,\n",
    "    'break_thresh' : 0,\n",
    "    'training_epochs' : 100000,\n",
    "    'learning_rate' : 0.09,\n",
    "\n",
    "    # meta\n",
    "    'save_step' : 1,\n",
    "    'print_step' : 50,\n",
    "}\n",
    "\n",
    "basic_test_name = 'testing_new_sim_'\n",
    "#dinfs = [1, 1.1, 1.5]\n",
    "#dinfs = [0.1, 0.2, 0.3, 0.4, 0.5, 0.6, 0.7, 0.8, 0.9, 1, 1.1, 1.2]\n",
    "dinfs = [0.1]\n",
    "\n",
    "for dinf in dinfs:\n",
    "    tf.reset_default_graph()\n",
    "    test_name = basic_test_name\n",
    "    cfg['name'] = test_name\n",
    "    start = time.time()\n",
    "    print(\"\\n\\n### Running test: \", test_name, \"\\n\")\n",
    "    sim(cfg)\n",
    "    end = time.time()\n",
    "    print('\\n*** Training time: ', '{:.3f}'.format((end - start)/60), 'minutes')"
   ]
  },
  {
   "cell_type": "code",
   "execution_count": 3,
   "metadata": {
    "collapsed": false
   },
   "outputs": [
    {
     "name": "stdout",
     "output_type": "stream",
     "text": [
      "\n",
      "\n",
      "### Running test:  test_gen_sep_wsn_100 \n",
      "\n",
      "\n",
      "\n",
      "*** Configuring\n",
      "\n",
      "Configs:\n",
      " {'n_test': 1000, 'batch_size': 1, 'alpha': 0.1, 'training_epochs': 10000, 'n_input': 30, 'd_inf': 0, 'beta': 0, 'learning_rate': 0.01, 'save_step': 1, 'name': 'test_gen_sep_wsn_100', 'percent_nonsep': 10, 'k': 200, 'n_train': 50, 'break_thresh': 0, 'print_step': 100, 'w_star_norm': 100}\n"
     ]
    },
    {
     "ename": "KeyError",
     "evalue": "'dim'",
     "output_type": "error",
     "traceback": [
      "\u001b[0;31m---------------------------------------------------------------------------\u001b[0m",
      "\u001b[0;31mKeyError\u001b[0m                                  Traceback (most recent call last)",
      "\u001b[0;32m<ipython-input-3-a57ffb5f2371>\u001b[0m in \u001b[0;36m<module>\u001b[0;34m()\u001b[0m\n\u001b[1;32m     29\u001b[0m     \u001b[0mstart\u001b[0m \u001b[1;33m=\u001b[0m \u001b[0mtime\u001b[0m\u001b[1;33m.\u001b[0m\u001b[0mtime\u001b[0m\u001b[1;33m(\u001b[0m\u001b[1;33m)\u001b[0m\u001b[1;33m\u001b[0m\u001b[0m\n\u001b[1;32m     30\u001b[0m     \u001b[0mprint\u001b[0m\u001b[1;33m(\u001b[0m\u001b[1;34m\"\\n\\n### Running test: \"\u001b[0m\u001b[1;33m,\u001b[0m \u001b[0mtest_name\u001b[0m\u001b[1;33m,\u001b[0m \u001b[1;34m\"\\n\"\u001b[0m\u001b[1;33m)\u001b[0m\u001b[1;33m\u001b[0m\u001b[0m\n\u001b[0;32m---> 31\u001b[0;31m     \u001b[0msim\u001b[0m\u001b[1;33m(\u001b[0m\u001b[0mcfg\u001b[0m\u001b[1;33m)\u001b[0m\u001b[1;33m\u001b[0m\u001b[0m\n\u001b[0m\u001b[1;32m     32\u001b[0m     \u001b[0mend\u001b[0m \u001b[1;33m=\u001b[0m \u001b[0mtime\u001b[0m\u001b[1;33m.\u001b[0m\u001b[0mtime\u001b[0m\u001b[1;33m(\u001b[0m\u001b[1;33m)\u001b[0m\u001b[1;33m\u001b[0m\u001b[0m\n\u001b[1;32m     33\u001b[0m     \u001b[0mprint\u001b[0m\u001b[1;33m(\u001b[0m\u001b[1;34m'\\n*** Training time: '\u001b[0m\u001b[1;33m,\u001b[0m \u001b[1;34m'{:.3f}'\u001b[0m\u001b[1;33m.\u001b[0m\u001b[0mformat\u001b[0m\u001b[1;33m(\u001b[0m\u001b[1;33m(\u001b[0m\u001b[0mend\u001b[0m \u001b[1;33m-\u001b[0m \u001b[0mstart\u001b[0m\u001b[1;33m)\u001b[0m\u001b[1;33m/\u001b[0m\u001b[1;36m60\u001b[0m\u001b[1;33m)\u001b[0m\u001b[1;33m,\u001b[0m \u001b[1;34m'minutes'\u001b[0m\u001b[1;33m)\u001b[0m\u001b[1;33m\u001b[0m\u001b[0m\n",
      "\u001b[0;32mC:\\Users\\Shira\\Dropbox\\ShiraPhD\\deep learning\\sim\\sss\\lin_sep_with_d.py\u001b[0m in \u001b[0;36msim\u001b[0;34m(cfg)\u001b[0m\n\u001b[1;32m     45\u001b[0m     \u001b[0mn_train\u001b[0m \u001b[1;33m=\u001b[0m \u001b[0mcfg\u001b[0m\u001b[1;33m[\u001b[0m\u001b[1;34m'n_train'\u001b[0m\u001b[1;33m]\u001b[0m\u001b[1;33m\u001b[0m\u001b[0m\n\u001b[1;32m     46\u001b[0m     \u001b[0mn_test\u001b[0m \u001b[1;33m=\u001b[0m \u001b[0mcfg\u001b[0m\u001b[1;33m[\u001b[0m\u001b[1;34m'n_test'\u001b[0m\u001b[1;33m]\u001b[0m\u001b[1;33m\u001b[0m\u001b[0m\n\u001b[0;32m---> 47\u001b[0;31m     \u001b[0mdim\u001b[0m \u001b[1;33m=\u001b[0m \u001b[0mcfg\u001b[0m\u001b[1;33m[\u001b[0m\u001b[1;34m'dim'\u001b[0m\u001b[1;33m]\u001b[0m\u001b[1;33m\u001b[0m\u001b[0m\n\u001b[0m\u001b[1;32m     48\u001b[0m     \u001b[0mk\u001b[0m \u001b[1;33m=\u001b[0m \u001b[0mcfg\u001b[0m\u001b[1;33m[\u001b[0m\u001b[1;34m'k'\u001b[0m\u001b[1;33m]\u001b[0m\u001b[1;33m\u001b[0m\u001b[0m\n\u001b[1;32m     49\u001b[0m     \u001b[0mw_star_norm\u001b[0m \u001b[1;33m=\u001b[0m \u001b[0mcfg\u001b[0m\u001b[1;33m[\u001b[0m\u001b[1;34m'w_star_norm'\u001b[0m\u001b[1;33m]\u001b[0m\u001b[1;33m\u001b[0m\u001b[0m\n",
      "\u001b[0;31mKeyError\u001b[0m: 'dim'"
     ]
    }
   ],
   "source": [
    "# test generalization theorem of Shalev-Shwartz, on seperable data\n",
    "from lin_sep_with_d import sim\n",
    "\n",
    "cfg = {\n",
    "    'beta' : 0, # l_2 weight regularization\n",
    "    'batch_size' : 1,\n",
    "    'save_step' : 1,\n",
    "    'print_step' : 100,\n",
    "    'break_thresh' : 0,\n",
    "    'training_epochs' : 10000,\n",
    "    'learning_rate' : 0.01,\n",
    "    'n_input' : 30,\n",
    "    'n_train' : 50,\n",
    "    'n_test' : 1000,\n",
    "    'k' : 200,\n",
    "    'percent_nonsep' : 10,\n",
    "    'alpha' : 0.1,\n",
    "    'd_inf' : 0, \n",
    "}\n",
    "\n",
    "basic_test_name = 'test_gen_sep_wsn_'\n",
    "wsns = [100]\n",
    "\n",
    "for wsn in wsns:\n",
    "    tf.reset_default_graph()\n",
    "    cfg['w_star_norm'] = wsn\n",
    "    test_name = basic_test_name + str(wsn)\n",
    "    cfg['name'] = test_name\n",
    "    start = time.time()\n",
    "    print(\"\\n\\n### Running test: \", test_name, \"\\n\")\n",
    "    sim(cfg)\n",
    "    end = time.time()\n",
    "    print('\\n*** Training time: ', '{:.3f}'.format((end - start)/60), 'minutes')"
   ]
  },
  {
   "cell_type": "code",
   "execution_count": null,
   "metadata": {
    "collapsed": true
   },
   "outputs": [],
   "source": []
  }
 ],
 "metadata": {
  "anaconda-cloud": {},
  "kernelspec": {
   "display_name": "Python [conda env:Anaconda3]",
   "language": "python",
   "name": "conda-env-Anaconda3-py"
  },
  "language_info": {
   "codemirror_mode": {
    "name": "ipython",
    "version": 3
   },
   "file_extension": ".py",
   "mimetype": "text/x-python",
   "name": "python",
   "nbconvert_exporter": "python",
   "pygments_lexer": "ipython3",
   "version": "3.5.4"
  }
 },
 "nbformat": 4,
 "nbformat_minor": 2
}
